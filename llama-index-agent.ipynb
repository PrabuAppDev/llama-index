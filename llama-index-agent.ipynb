{
 "cells": [
  {
   "cell_type": "code",
   "execution_count": 46,
   "id": "a5affd8b-0078-4164-8e97-99e2fa251854",
   "metadata": {},
   "outputs": [
    {
     "name": "stdout",
     "output_type": "stream",
     "text": [
      "Defaulting to user installation because normal site-packages is not writeable\n",
      "Requirement already satisfied: openai in c:\\programdata\\anaconda3\\lib\\site-packages (1.52.2)\n",
      "Requirement already satisfied: anyio<5,>=3.5.0 in c:\\programdata\\anaconda3\\lib\\site-packages (from openai) (4.2.0)\n",
      "Requirement already satisfied: distro<2,>=1.7.0 in c:\\programdata\\anaconda3\\lib\\site-packages (from openai) (1.9.0)\n",
      "Requirement already satisfied: httpx<1,>=0.23.0 in c:\\programdata\\anaconda3\\lib\\site-packages (from openai) (0.27.0)\n",
      "Requirement already satisfied: jiter<1,>=0.4.0 in c:\\programdata\\anaconda3\\lib\\site-packages (from openai) (0.6.1)\n",
      "Requirement already satisfied: pydantic<3,>=1.9.0 in c:\\programdata\\anaconda3\\lib\\site-packages (from openai) (2.8.2)\n",
      "Requirement already satisfied: sniffio in c:\\programdata\\anaconda3\\lib\\site-packages (from openai) (1.3.0)\n",
      "Requirement already satisfied: tqdm>4 in c:\\programdata\\anaconda3\\lib\\site-packages (from openai) (4.66.5)\n",
      "Requirement already satisfied: typing-extensions<5,>=4.11 in c:\\programdata\\anaconda3\\lib\\site-packages (from openai) (4.11.0)\n",
      "Requirement already satisfied: idna>=2.8 in c:\\programdata\\anaconda3\\lib\\site-packages (from anyio<5,>=3.5.0->openai) (3.7)\n",
      "Requirement already satisfied: certifi in c:\\programdata\\anaconda3\\lib\\site-packages (from httpx<1,>=0.23.0->openai) (2024.8.30)\n",
      "Requirement already satisfied: httpcore==1.* in c:\\programdata\\anaconda3\\lib\\site-packages (from httpx<1,>=0.23.0->openai) (1.0.2)\n",
      "Requirement already satisfied: h11<0.15,>=0.13 in c:\\programdata\\anaconda3\\lib\\site-packages (from httpcore==1.*->httpx<1,>=0.23.0->openai) (0.14.0)\n",
      "Requirement already satisfied: annotated-types>=0.4.0 in c:\\programdata\\anaconda3\\lib\\site-packages (from pydantic<3,>=1.9.0->openai) (0.6.0)\n",
      "Requirement already satisfied: pydantic-core==2.20.1 in c:\\programdata\\anaconda3\\lib\\site-packages (from pydantic<3,>=1.9.0->openai) (2.20.1)\n",
      "Requirement already satisfied: colorama in c:\\programdata\\anaconda3\\lib\\site-packages (from tqdm>4->openai) (0.4.6)\n",
      "Defaulting to user installation because normal site-packages is not writeable\n",
      "Collecting pymupdf\n",
      "  Downloading PyMuPDF-1.24.12-cp39-abi3-win_amd64.whl.metadata (3.4 kB)\n",
      "Downloading PyMuPDF-1.24.12-cp39-abi3-win_amd64.whl (16.0 MB)\n",
      "   ---------------------------------------- 0.0/16.0 MB ? eta -:--:--\n",
      "   ---------------------------------------- 0.0/16.0 MB ? eta -:--:--\n",
      "    --------------------------------------- 0.3/16.0 MB ? eta -:--:--\n",
      "   - -------------------------------------- 0.8/16.0 MB 1.4 MB/s eta 0:00:11\n",
      "   -- ------------------------------------- 1.0/16.0 MB 1.5 MB/s eta 0:00:11\n",
      "   --- ------------------------------------ 1.6/16.0 MB 1.7 MB/s eta 0:00:09\n",
      "   ----- ---------------------------------- 2.1/16.0 MB 1.8 MB/s eta 0:00:08\n",
      "   ------ --------------------------------- 2.6/16.0 MB 2.0 MB/s eta 0:00:07\n",
      "   ------- -------------------------------- 3.1/16.0 MB 2.1 MB/s eta 0:00:07\n",
      "   --------- ------------------------------ 3.9/16.0 MB 2.3 MB/s eta 0:00:06\n",
      "   ----------- ---------------------------- 4.5/16.0 MB 2.4 MB/s eta 0:00:05\n",
      "   ------------- -------------------------- 5.2/16.0 MB 2.5 MB/s eta 0:00:05\n",
      "   -------------- ------------------------- 5.8/16.0 MB 2.5 MB/s eta 0:00:05\n",
      "   ----------------- ---------------------- 6.8/16.0 MB 2.7 MB/s eta 0:00:04\n",
      "   ------------------- -------------------- 7.6/16.0 MB 2.8 MB/s eta 0:00:03\n",
      "   --------------------- ------------------ 8.7/16.0 MB 2.9 MB/s eta 0:00:03\n",
      "   ------------------------ --------------- 9.7/16.0 MB 3.1 MB/s eta 0:00:03\n",
      "   -------------------------- ------------- 10.5/16.0 MB 3.2 MB/s eta 0:00:02\n",
      "   ---------------------------- ----------- 11.5/16.0 MB 3.3 MB/s eta 0:00:02\n",
      "   ------------------------------ --------- 12.3/16.0 MB 3.3 MB/s eta 0:00:02\n",
      "   -------------------------------- ------- 13.1/16.0 MB 3.3 MB/s eta 0:00:01\n",
      "   ----------------------------------- ---- 14.2/16.0 MB 3.4 MB/s eta 0:00:01\n",
      "   -------------------------------------- - 15.2/16.0 MB 3.5 MB/s eta 0:00:01\n",
      "   ---------------------------------------- 16.0/16.0 MB 3.5 MB/s eta 0:00:00\n",
      "Installing collected packages: pymupdf\n",
      "Successfully installed pymupdf-1.24.12\n"
     ]
    },
    {
     "name": "stderr",
     "output_type": "stream",
     "text": [
      "  WARNING: The script pymupdf.exe is installed in 'C:\\Users\\prabu\\AppData\\Roaming\\Python\\Python312\\Scripts' which is not on PATH.\n",
      "  Consider adding this directory to PATH or, if you prefer to suppress this warning, use --no-warn-script-location.\n"
     ]
    }
   ],
   "source": [
    "!pip install openai\n",
    "!pip install pymupdf"
   ]
  },
  {
   "cell_type": "code",
   "execution_count": 17,
   "id": "684c5903-e19d-439c-b398-5da263c21e6e",
   "metadata": {},
   "outputs": [],
   "source": [
    "import nest_asyncio\n",
    "import os\n",
    "\n",
    "# Apply nest_asyncio to handle nested event loops (useful for Jupyter notebooks)\n",
    "nest_asyncio.apply()\n",
    "\n",
    "# Ensure the OpenAI API key is set as an environment variable\n",
    "assert \"OPENAI_API_KEY\" in os.environ, \"Please set the OPENAI_API_KEY environment variable.\"\n",
    "\n",
    "# Import the OpenAI and embedding classes from Llama-Index\n",
    "from llama_index.llms.openai import OpenAI\n",
    "from llama_index.embeddings.openai import OpenAIEmbedding\n",
    "from llama_index.core import Settings\n",
    "\n",
    "# Initialize the language model (LLM) using gpt-4o-mini and embedding model\n",
    "llm = OpenAI(model=\"gpt-4o-mini\", temperature=0.1)\n",
    "embed_model = OpenAIEmbedding()\n",
    "\n",
    "# Set the LLM and embedding model globally for usage\n",
    "Settings.llm = llm\n",
    "Settings.embed_model = embed_model"
   ]
  },
  {
   "cell_type": "code",
   "execution_count": 51,
   "id": "5d34cd43-46e8-45a7-bc93-2806a4a950f1",
   "metadata": {},
   "outputs": [],
   "source": [
    "import fitz  # PyMuPDF\n",
    "from llama_index.core import Document\n",
    "\n",
    "# Load the PDF and split by pages\n",
    "pdf_path = \"acura_mdx_manual.pdf\"\n",
    "pdf_document = fitz.open(pdf_path)\n",
    "\n",
    "# Create a list of Document objects with page-level metadata\n",
    "acura_docs = []\n",
    "for page_num in range(len(pdf_document)):\n",
    "    page = pdf_document[page_num]\n",
    "    page_text = page.get_text(\"text\")\n",
    "    document = Document(text=page_text, metadata={\"page\": page_num + 1})\n",
    "    acura_docs.append(document)"
   ]
  },
  {
   "cell_type": "code",
   "execution_count": 48,
   "id": "99696466-5800-4058-985e-64739cfc0837",
   "metadata": {},
   "outputs": [],
   "source": [
    "# from llama_index.core import SimpleDirectoryReader\n",
    "\n",
    "# # Load the Acura MDX manual\n",
    "# acura_docs = SimpleDirectoryReader(input_files=[\"acura_mdx_manual.pdf\"]).load_data()"
   ]
  },
  {
   "cell_type": "code",
   "execution_count": 53,
   "id": "4565b72f-50f4-45d3-a0ad-10b150c90986",
   "metadata": {},
   "outputs": [],
   "source": [
    "from llama_index.core import VectorStoreIndex\n",
    "\n",
    "# Create vector store index from the Acura MDX manual\n",
    "acura_index = VectorStoreIndex.from_documents(acura_docs)\n",
    "\n",
    "# Create a query engine for the Acura manual\n",
    "acura_query_engine = acura_index.as_query_engine(similarity_top_k=3)"
   ]
  },
  {
   "cell_type": "code",
   "execution_count": 61,
   "id": "f578e591-8bbc-4237-8479-eb9f5fb9d7b3",
   "metadata": {},
   "outputs": [
    {
     "data": {
      "text/html": [
       "<p style=\"font-size:20px; color: darkblue;\"><strong>Response:</strong> Tire pressure should be checked monthly when the tires are cold. This means the vehicle should have been parked for at least three hours or driven less than 1 mile (1.6 km) before checking the pressure.</p>"
      ],
      "text/plain": [
       "<IPython.core.display.HTML object>"
      ]
     },
     "metadata": {},
     "output_type": "display_data"
    },
    {
     "data": {
      "text/html": [
       "<p style=\"font-size:16px; color: darkgreen;\"><strong>Excerpt from Page 487:</strong><br>485\n",
       "uuWhen DrivinguTire Pressure Monitoring System (TPMS) - Required Federal Explanation\n",
       "Continued\n",
       "Driving\n",
       "Tire Pressure Monitoring System (TPMS) - Required \n",
       "Federal Explanation\n",
       "Each tire, including the spare (if provided), should be checked \n",
       "monthly when cold and inflated to the inflation pressure \n",
       "recommended by the vehicle manufacturer on the vehicle placard \n",
       "or tire inflation pressure label.\n",
       "(If your vehicle has tires of a different size than the size indicated \n",
       "on the vehicle placard or tir...</p>"
      ],
      "text/plain": [
       "<IPython.core.display.HTML object>"
      ]
     },
     "metadata": {},
     "output_type": "display_data"
    },
    {
     "data": {
      "text/html": [
       "<p style=\"font-size:16px; color: darkgreen;\"><strong>Excerpt from Page 638:</strong><br>636\n",
       "Maintenance\n",
       "Checking and Maintaining Tires\n",
       "Checking Tires\n",
       "To safely operate your vehicle, your tires must be of the proper type and size, in \n",
       "good condition with adequate tread, and properly inflated.\n",
       "■Inflation guidelines\n",
       "Properly inflated tires provide the best combination of handling, tread life, and comfort. \n",
       "Refer to the driver’s doorjamb label or specifications page for the specified pressure.\n",
       "Underinflated tires wear unevenly, adversely affect handling and fuel economy, and \n",
       "are more ...</p>"
      ],
      "text/plain": [
       "<IPython.core.display.HTML object>"
      ]
     },
     "metadata": {},
     "output_type": "display_data"
    },
    {
     "data": {
      "text/html": [
       "<p style=\"font-size:16px; color: darkgreen;\"><strong>Excerpt from Page 692:</strong><br>690\n",
       "uuIf a Tire Goes FlatuTemporarily Repairing a Flat Tire\n",
       "Handling the Unexpected\n",
       "4. Recheck the air pressure using the gauge \n",
       "on the air compressor.\n",
       "u Do not turn the air compressor on to \n",
       "check the pressure.\n",
       "5. If the air pressure is:\n",
       "• Less than 19 psi (130 kPa):\n",
       "Do not add air or continue driving. The \n",
       "leak is too severe. Call for help and have \n",
       "your vehicle towed.\n",
       "2 Emergency Towing P. 724\n",
       "• 33 psi (230 kPa) or more:\n",
       "Continue driving for another five \n",
       "minutes or until you reach the neares...</p>"
      ],
      "text/plain": [
       "<IPython.core.display.HTML object>"
      ]
     },
     "metadata": {},
     "output_type": "display_data"
    }
   ],
   "source": [
    "# Query the Acura MDX manual for tire pressure check recommendations\n",
    "query = \"How often should tire pressure be checked, especially during cold weather?\"\n",
    "response = acura_query_engine.query(query)\n",
    "\n",
    "# # Print the response attributes to check for 'source_documents'\n",
    "# print(\"Response structure:\")\n",
    "# print(response.__dict__)  # Check all attributes of the response\n",
    "\n",
    "# Display the response and relevant excerpts\n",
    "from IPython.display import display, HTML\n",
    "\n",
    "# Display main response\n",
    "display(HTML(f'<p style=\"font-size:20px; color: darkblue;\"><strong>Response:</strong> {response.response}</p>'))\n",
    "\n",
    "# Display excerpts from source_nodes\n",
    "if hasattr(response, 'source_nodes') and response.source_nodes:\n",
    "    for i, node in enumerate(response.source_nodes):\n",
    "        page_info = f\"Page {node.node.metadata.get('page', 'N/A')}\" if node.node.metadata else \"Unknown page\"\n",
    "        excerpt = node.node.text[:500]  # Limit excerpt length to 500 characters\n",
    "        display(HTML(f'<p style=\"font-size:16px; color: darkgreen;\"><strong>Excerpt from {page_info}:</strong><br>{excerpt}...</p>'))\n",
    "else:\n",
    "    display(HTML(\"<p style='font-size:16px; color: red;'>No excerpts found in the response.</p>\"))"
   ]
  },
  {
   "cell_type": "code",
   "execution_count": 65,
   "id": "2e0fbdbf-159e-4da0-93c9-8a1135938802",
   "metadata": {},
   "outputs": [
    {
     "name": "stdout",
     "output_type": "stream",
     "text": [
      "Added user message to memory: How often should tire pressure be checked, especially during cold weather?\n",
      "=== Calling Function ===\n",
      "Calling function: acura_manual with args: {\"input\": \"tire pressure check frequency cold weather\"}\n",
      "=== Function Output ===\n",
      "Tire pressure should be checked monthly when the tires are cold. This means the vehicle should have been parked for at least three hours or driven less than 1 mile (1.6 km) before checking the pressure. Regular checks are especially important in cold weather, as temperatures can cause tire pressure to drop.\n",
      "=== LLM Response ===\n",
      "Tire pressure should be checked monthly, especially during cold weather. It's best to check the pressure when the tires are cold, meaning the vehicle should have been parked for at least three hours or driven less than 1 mile (1.6 km) before checking. Cold temperatures can cause tire pressure to drop, making regular checks crucial.\n"
     ]
    },
    {
     "data": {
      "text/html": [
       "<p style=\"font-size:20px\">Tire pressure should be checked monthly, especially during cold weather. It's best to check the pressure when the tires are cold, meaning the vehicle should have been parked for at least three hours or driven less than 1 mile (1.6 km) before checking. Cold temperatures can cause tire pressure to drop, making regular checks crucial.</p>"
      ],
      "text/plain": [
       "<IPython.core.display.HTML object>"
      ]
     },
     "metadata": {},
     "output_type": "display_data"
    }
   ],
   "source": [
    "from llama_index.core.tools import QueryEngineTool, ToolMetadata\n",
    "from llama_index.core.agent import FunctionCallingAgentWorker\n",
    "\n",
    "# Define the query engine tool for Acura manual\n",
    "query_engine_tools = [\n",
    "    QueryEngineTool(\n",
    "        query_engine=acura_query_engine,\n",
    "        metadata=ToolMetadata(\n",
    "            name=\"acura_manual\",\n",
    "            description=\"Provides information from the Acura MDX 2022 owner's manual\",\n",
    "        ),\n",
    "    )\n",
    "]\n",
    "\n",
    "# Create a function-calling agent worker\n",
    "agent_worker = FunctionCallingAgentWorker.from_tools(\n",
    "    query_engine_tools,\n",
    "    llm=llm,\n",
    "    verbose=True,\n",
    "    allow_parallel_tool_calls=False,\n",
    ")\n",
    "\n",
    "# Convert the agent worker to an agent\n",
    "agent = agent_worker.as_agent()\n",
    "\n",
    "# Use the agent to ask a question about the Acura manual\n",
    "response = agent.chat(\"How often should tire pressure be checked, especially during cold weather?\")\n",
    "display(HTML(f'<p style=\"font-size:20px\">{response.response}</p>'))"
   ]
  },
  {
   "cell_type": "markdown",
   "id": "bf0c629a-705a-46e1-a563-5457627773e9",
   "metadata": {},
   "source": [
    "# Agentic Architecture Overview\n",
    "\n",
    "The setup using `FunctionCallingAgentWorker` with Llama Index can be considered an example of agentic architecture. Here's a breakdown of why this approach qualifies:\n",
    "\n",
    "1. **Agents and Autonomy**  \n",
    "   - The `FunctionCallingAgentWorker` creates an agent that autonomously decides which tools (query engines) to utilize based on the user's query.\n",
    "   - This makes it an \"agent\" because it can perform actions independently to resolve queries. For instance, the agent autonomously decides which section of the manual to query to answer a question.\n",
    "\n",
    "2. **Tool Integration**  \n",
    "   - The agent is integrated with \"tools\" (`QueryEngineTool`), which provide specific capabilities—in this case, querying the Acura manual data.\n",
    "   - This tool integration is central to agentic architecture as it allows the agent to perform specialized tasks using pre-defined functionalities.\n",
    "\n",
    "3. **Reasoning and Function Calling**  \n",
    "   - The `FunctionCallingAgentWorker` allows the agent to reason and call specific functions as needed based on the user's prompt.\n",
    "   - This setup enables the agent to make decisions and take actions, such as querying the Acura manual for specific information like resetting the oil change light.\n",
    "\n",
    "## Differences from a Basic Query System\n",
    "- A basic query system only returns search results without processing or reasoning, while the agentic approach \"thinks through\" the required steps.\n",
    "- Agentic architecture enables multiple decision-making steps and tool usage, adding sophistication beyond simple query-response mechanisms.\n",
    "\n",
    "## Benefits\n",
    "- **Modularity**: Additional tools can be added to the agent, enabling it to autonomously decide when to use each one.\n",
    "- **Scalability**: The agent can scale to handle complex, multi-step queries and interactions, making it more versatile than a basic query engine.\n",
    "\n",
    "In summary, this setup leverages principles of agentic architecture, enabling it to dynamically and autonomously interact with users' queries. This is beneficial for scenarios that require more than simple responses, making it capable of sophisticated, contextualized interactions."
   ]
  },
  {
   "cell_type": "code",
   "execution_count": 42,
   "id": "2b34c85c-7a32-45cf-93a6-05a964a5bb82",
   "metadata": {},
   "outputs": [
    {
     "data": {
      "text/html": [
       "<p style=\"font-size:20px; color: darkblue;\"><strong>Response:</strong> Tire pressure should be checked monthly when the tires are cold, which means the vehicle has been parked for at least three hours or driven less than 1 mile (1.6 km). This practice is important to ensure proper inflation and safety, especially during cold weather when tire pressure can decrease.</p>"
      ],
      "text/plain": [
       "<IPython.core.display.HTML object>"
      ]
     },
     "metadata": {},
     "output_type": "display_data"
    },
    {
     "data": {
      "text/html": [
       "<p style='font-size:16px; color: red;'>No excerpts found in the response.</p>"
      ],
      "text/plain": [
       "<IPython.core.display.HTML object>"
      ]
     },
     "metadata": {},
     "output_type": "display_data"
    }
   ],
   "source": [
    "# Query the Acura MDX manual for tire pressure check recommendations\n",
    "query = \"How often should tire pressure be checked, especially during cold weather?\"\n",
    "response = acura_query_engine.query(query)\n",
    "\n",
    "# Display the response and relevant excerpts\n",
    "from IPython.display import display, HTML\n",
    "\n",
    "# Display main response\n",
    "display(HTML(f'<p style=\"font-size:20px; color: darkblue;\"><strong>Response:</strong> {response.response}</p>'))\n",
    "\n",
    "# Display excerpts if available\n",
    "if hasattr(response, 'source_documents') and response.source_documents:\n",
    "    for i, doc in enumerate(response.source_documents):\n",
    "        page_info = f\"Page {doc.metadata.get('page', 'N/A')}\" if doc.metadata else \"Unknown page\"\n",
    "        excerpt = doc.text[:500]  # Limit excerpt length to 500 characters\n",
    "        display(HTML(f'<p style=\"font-size:16px; color: darkgreen;\"><strong>Excerpt from {page_info}:</strong><br>{excerpt}...</p>'))\n",
    "else:\n",
    "    display(HTML(\"<p style='font-size:16px; color: red;'>No excerpts found in the response.</p>\"))"
   ]
  }
 ],
 "metadata": {
  "kernelspec": {
   "display_name": "Python 3",
   "language": "python",
   "name": "python3"
  },
  "language_info": {
   "codemirror_mode": {
    "name": "ipython",
    "version": 3
   },
   "file_extension": ".py",
   "mimetype": "text/x-python",
   "name": "python",
   "nbconvert_exporter": "python",
   "pygments_lexer": "ipython3",
   "version": "3.12.7"
  }
 },
 "nbformat": 4,
 "nbformat_minor": 5
}
