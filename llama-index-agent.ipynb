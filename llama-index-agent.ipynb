{
 "cells": [
  {
   "cell_type": "code",
   "execution_count": 1,
   "id": "a5affd8b-0078-4164-8e97-99e2fa251854",
   "metadata": {
    "scrolled": true
   },
   "outputs": [
    {
     "name": "stdout",
     "output_type": "stream",
     "text": [
      "Defaulting to user installation because normal site-packages is not writeable\n",
      "Requirement already satisfied: openai in c:\\programdata\\anaconda3\\lib\\site-packages (1.52.2)\n",
      "Requirement already satisfied: anyio<5,>=3.5.0 in c:\\programdata\\anaconda3\\lib\\site-packages (from openai) (4.2.0)\n",
      "Requirement already satisfied: distro<2,>=1.7.0 in c:\\programdata\\anaconda3\\lib\\site-packages (from openai) (1.9.0)\n",
      "Requirement already satisfied: httpx<1,>=0.23.0 in c:\\programdata\\anaconda3\\lib\\site-packages (from openai) (0.27.0)\n",
      "Requirement already satisfied: jiter<1,>=0.4.0 in c:\\programdata\\anaconda3\\lib\\site-packages (from openai) (0.6.1)\n",
      "Requirement already satisfied: pydantic<3,>=1.9.0 in c:\\programdata\\anaconda3\\lib\\site-packages (from openai) (2.8.2)\n",
      "Requirement already satisfied: sniffio in c:\\programdata\\anaconda3\\lib\\site-packages (from openai) (1.3.0)\n",
      "Requirement already satisfied: tqdm>4 in c:\\programdata\\anaconda3\\lib\\site-packages (from openai) (4.66.5)\n",
      "Requirement already satisfied: typing-extensions<5,>=4.11 in c:\\programdata\\anaconda3\\lib\\site-packages (from openai) (4.11.0)\n",
      "Requirement already satisfied: idna>=2.8 in c:\\programdata\\anaconda3\\lib\\site-packages (from anyio<5,>=3.5.0->openai) (3.7)\n",
      "Requirement already satisfied: certifi in c:\\programdata\\anaconda3\\lib\\site-packages (from httpx<1,>=0.23.0->openai) (2024.8.30)\n",
      "Requirement already satisfied: httpcore==1.* in c:\\programdata\\anaconda3\\lib\\site-packages (from httpx<1,>=0.23.0->openai) (1.0.2)\n",
      "Requirement already satisfied: h11<0.15,>=0.13 in c:\\programdata\\anaconda3\\lib\\site-packages (from httpcore==1.*->httpx<1,>=0.23.0->openai) (0.14.0)\n",
      "Requirement already satisfied: annotated-types>=0.4.0 in c:\\programdata\\anaconda3\\lib\\site-packages (from pydantic<3,>=1.9.0->openai) (0.6.0)\n",
      "Requirement already satisfied: pydantic-core==2.20.1 in c:\\programdata\\anaconda3\\lib\\site-packages (from pydantic<3,>=1.9.0->openai) (2.20.1)\n",
      "Requirement already satisfied: colorama in c:\\programdata\\anaconda3\\lib\\site-packages (from tqdm>4->openai) (0.4.6)\n",
      "Defaulting to user installation because normal site-packages is not writeable\n",
      "Requirement already satisfied: pymupdf in c:\\users\\prabu\\appdata\\roaming\\python\\python312\\site-packages (1.24.12)\n"
     ]
    }
   ],
   "source": [
    "!pip install openai\n",
    "!pip install pymupdf"
   ]
  },
  {
   "cell_type": "code",
   "execution_count": 2,
   "id": "684c5903-e19d-439c-b398-5da263c21e6e",
   "metadata": {},
   "outputs": [],
   "source": [
    "import nest_asyncio\n",
    "import os\n",
    "\n",
    "# Apply nest_asyncio to handle nested event loops (useful for Jupyter notebooks)\n",
    "nest_asyncio.apply()\n",
    "\n",
    "# Ensure the OpenAI API key is set as an environment variable\n",
    "assert \"OPENAI_API_KEY\" in os.environ, \"Please set the OPENAI_API_KEY environment variable.\"\n",
    "\n",
    "# Import the OpenAI and embedding classes from Llama-Index\n",
    "from llama_index.llms.openai import OpenAI\n",
    "from llama_index.embeddings.openai import OpenAIEmbedding\n",
    "from llama_index.core import Settings\n",
    "\n",
    "# Initialize the language model (LLM) using gpt-4o-mini and embedding model\n",
    "llm = OpenAI(model=\"gpt-4o-mini\", temperature=0.1)\n",
    "embed_model = OpenAIEmbedding()\n",
    "\n",
    "# Set the LLM and embedding model globally for usage\n",
    "Settings.llm = llm\n",
    "Settings.embed_model = embed_model"
   ]
  },
  {
   "cell_type": "code",
   "execution_count": 3,
   "id": "5d34cd43-46e8-45a7-bc93-2806a4a950f1",
   "metadata": {},
   "outputs": [],
   "source": [
    "import fitz  # PyMuPDF\n",
    "from llama_index.core import Document\n",
    "\n",
    "# Load the PDF and split by pages\n",
    "pdf_path = \"acura_mdx_manual.pdf\"\n",
    "pdf_document = fitz.open(pdf_path)\n",
    "\n",
    "# Create a list of Document objects with page-level metadata\n",
    "acura_docs = []\n",
    "for page_num in range(len(pdf_document)):\n",
    "    page = pdf_document[page_num]\n",
    "    page_text = page.get_text(\"text\")\n",
    "    document = Document(text=page_text, metadata={\"page\": page_num + 1})\n",
    "    acura_docs.append(document)"
   ]
  },
  {
   "cell_type": "code",
   "execution_count": 4,
   "id": "99696466-5800-4058-985e-64739cfc0837",
   "metadata": {},
   "outputs": [],
   "source": [
    "# from llama_index.core import SimpleDirectoryReader\n",
    "\n",
    "# # Load the Acura MDX manual\n",
    "# acura_docs = SimpleDirectoryReader(input_files=[\"acura_mdx_manual.pdf\"]).load_data()"
   ]
  },
  {
   "cell_type": "code",
   "execution_count": 5,
   "id": "4565b72f-50f4-45d3-a0ad-10b150c90986",
   "metadata": {},
   "outputs": [],
   "source": [
    "from llama_index.core import VectorStoreIndex\n",
    "\n",
    "# Create vector store index from the Acura MDX manual\n",
    "acura_index = VectorStoreIndex.from_documents(acura_docs)\n",
    "\n",
    "# Create a query engine for the Acura manual\n",
    "acura_query_engine = acura_index.as_query_engine(similarity_top_k=3)"
   ]
  },
  {
   "cell_type": "code",
   "execution_count": 6,
   "id": "f578e591-8bbc-4237-8479-eb9f5fb9d7b3",
   "metadata": {},
   "outputs": [
    {
     "data": {
      "text/html": [
       "<p style=\"font-size:20px; color: darkblue;\"><strong>Response:</strong> Tire pressure should be checked monthly when the tires are cold. It's also advisable to check the pressure before long trips. Checking when the tires are cold means the vehicle has been parked for at least three hours or driven less than 1 mile.</p>"
      ],
      "text/plain": [
       "<IPython.core.display.HTML object>"
      ]
     },
     "metadata": {},
     "output_type": "display_data"
    },
    {
     "data": {
      "text/html": [
       "<p style=\"font-size:16px; color: darkgreen;\"><strong>Excerpt from Page 487:</strong><br>485\n",
       "uuWhen DrivinguTire Pressure Monitoring System (TPMS) - Required Federal Explanation\n",
       "Continued\n",
       "Driving\n",
       "Tire Pressure Monitoring System (TPMS) - Required \n",
       "Federal Explanation\n",
       "Each tire, including the spare (if provided), should be checked \n",
       "monthly when cold and inflated to the inflation pressure \n",
       "recommended by the vehicle manufacturer on the vehicle placard \n",
       "or tire inflation pressure label.\n",
       "(If your vehicle has tires of a different size than the size indicated \n",
       "on the vehicle placard or tir...</p>"
      ],
      "text/plain": [
       "<IPython.core.display.HTML object>"
      ]
     },
     "metadata": {},
     "output_type": "display_data"
    },
    {
     "data": {
      "text/html": [
       "<p style=\"font-size:16px; color: darkgreen;\"><strong>Excerpt from Page 638:</strong><br>636\n",
       "Maintenance\n",
       "Checking and Maintaining Tires\n",
       "Checking Tires\n",
       "To safely operate your vehicle, your tires must be of the proper type and size, in \n",
       "good condition with adequate tread, and properly inflated.\n",
       "■Inflation guidelines\n",
       "Properly inflated tires provide the best combination of handling, tread life, and comfort. \n",
       "Refer to the driver’s doorjamb label or specifications page for the specified pressure.\n",
       "Underinflated tires wear unevenly, adversely affect handling and fuel economy, and \n",
       "are more ...</p>"
      ],
      "text/plain": [
       "<IPython.core.display.HTML object>"
      ]
     },
     "metadata": {},
     "output_type": "display_data"
    },
    {
     "data": {
      "text/html": [
       "<p style=\"font-size:16px; color: darkgreen;\"><strong>Excerpt from Page 692:</strong><br>690\n",
       "uuIf a Tire Goes FlatuTemporarily Repairing a Flat Tire\n",
       "Handling the Unexpected\n",
       "4. Recheck the air pressure using the gauge \n",
       "on the air compressor.\n",
       "u Do not turn the air compressor on to \n",
       "check the pressure.\n",
       "5. If the air pressure is:\n",
       "• Less than 19 psi (130 kPa):\n",
       "Do not add air or continue driving. The \n",
       "leak is too severe. Call for help and have \n",
       "your vehicle towed.\n",
       "2 Emergency Towing P. 724\n",
       "• 33 psi (230 kPa) or more:\n",
       "Continue driving for another five \n",
       "minutes or until you reach the neares...</p>"
      ],
      "text/plain": [
       "<IPython.core.display.HTML object>"
      ]
     },
     "metadata": {},
     "output_type": "display_data"
    }
   ],
   "source": [
    "# Query the Acura MDX manual for tire pressure check recommendations\n",
    "query = \"How often should tire pressure be checked, especially during cold weather?\"\n",
    "response = acura_query_engine.query(query)\n",
    "\n",
    "# # Print the response attributes to check for 'source_documents'\n",
    "# print(\"Response structure:\")\n",
    "# print(response.__dict__)  # Check all attributes of the response\n",
    "\n",
    "# Display the response and relevant excerpts\n",
    "from IPython.display import display, HTML\n",
    "\n",
    "# Display main response\n",
    "display(HTML(f'<p style=\"font-size:20px; color: darkblue;\"><strong>Response:</strong> {response.response}</p>'))\n",
    "\n",
    "# Display excerpts from source_nodes\n",
    "if hasattr(response, 'source_nodes') and response.source_nodes:\n",
    "    for i, node in enumerate(response.source_nodes):\n",
    "        page_info = f\"Page {node.node.metadata.get('page', 'N/A')}\" if node.node.metadata else \"Unknown page\"\n",
    "        excerpt = node.node.text[:500]  # Limit excerpt length to 500 characters\n",
    "        display(HTML(f'<p style=\"font-size:16px; color: darkgreen;\"><strong>Excerpt from {page_info}:</strong><br>{excerpt}...</p>'))\n",
    "else:\n",
    "    display(HTML(\"<p style='font-size:16px; color: red;'>No excerpts found in the response.</p>\"))"
   ]
  },
  {
   "cell_type": "code",
   "execution_count": 7,
   "id": "2e0fbdbf-159e-4da0-93c9-8a1135938802",
   "metadata": {},
   "outputs": [
    {
     "name": "stdout",
     "output_type": "stream",
     "text": [
      "Added user message to memory: How often should tire pressure be checked, especially during cold weather?\n",
      "=== Calling Function ===\n",
      "Calling function: acura_manual with args: {\"input\": \"tire pressure check frequency cold weather\"}\n",
      "=== Function Output ===\n",
      "Tire pressure should be checked monthly when the tires are cold. This means the vehicle should have been parked for at least three hours or driven less than 1 mile (1.6 km) before checking the pressure. Regular checks are especially important in cold weather, as temperatures can affect tire pressure.\n",
      "=== LLM Response ===\n",
      "Tire pressure should be checked monthly, especially during cold weather. It's best to check the pressure when the tires are cold, meaning the vehicle should have been parked for at least three hours or driven less than 1 mile (1.6 km) before checking. Regular checks are crucial in cold weather, as temperatures can significantly affect tire pressure.\n"
     ]
    },
    {
     "data": {
      "text/html": [
       "<p style=\"font-size:20px\">Tire pressure should be checked monthly, especially during cold weather. It's best to check the pressure when the tires are cold, meaning the vehicle should have been parked for at least three hours or driven less than 1 mile (1.6 km) before checking. Regular checks are crucial in cold weather, as temperatures can significantly affect tire pressure.</p>"
      ],
      "text/plain": [
       "<IPython.core.display.HTML object>"
      ]
     },
     "metadata": {},
     "output_type": "display_data"
    }
   ],
   "source": [
    "from llama_index.core.tools import QueryEngineTool, ToolMetadata\n",
    "from llama_index.core.agent import FunctionCallingAgentWorker\n",
    "\n",
    "# Define the query engine tool for Acura manual\n",
    "query_engine_tools = [\n",
    "    QueryEngineTool(\n",
    "        query_engine=acura_query_engine,\n",
    "        metadata=ToolMetadata(\n",
    "            name=\"acura_manual\",\n",
    "            description=\"Provides information from the Acura MDX 2022 owner's manual\",\n",
    "        ),\n",
    "    )\n",
    "]\n",
    "\n",
    "# Create a function-calling agent worker\n",
    "agent_worker = FunctionCallingAgentWorker.from_tools(\n",
    "    query_engine_tools,\n",
    "    llm=llm,\n",
    "    verbose=True,\n",
    "    allow_parallel_tool_calls=False,\n",
    ")\n",
    "\n",
    "# Convert the agent worker to an agent\n",
    "agent = agent_worker.as_agent()\n",
    "\n",
    "# Use the agent to ask a question about the Acura manual\n",
    "response = agent.chat(\"How often should tire pressure be checked, especially during cold weather?\")\n",
    "display(HTML(f'<p style=\"font-size:20px\">{response.response}</p>'))"
   ]
  },
  {
   "cell_type": "markdown",
   "id": "bf0c629a-705a-46e1-a563-5457627773e9",
   "metadata": {},
   "source": [
    "# Agentic Architecture Overview\n",
    "\n",
    "The setup using `FunctionCallingAgentWorker` with Llama Index can be considered an example of agentic architecture. Here's a breakdown of why this approach qualifies:\n",
    "\n",
    "1. **Agents and Autonomy**  \n",
    "   - The `FunctionCallingAgentWorker` creates an agent that autonomously decides which tools (query engines) to utilize based on the user's query.\n",
    "   - This makes it an \"agent\" because it can perform actions independently to resolve queries. For instance, the agent autonomously decides which section of the manual to query to answer a question.\n",
    "\n",
    "2. **Tool Integration**  \n",
    "   - The agent is integrated with \"tools\" (`QueryEngineTool`), which provide specific capabilities—in this case, querying the Acura manual data.\n",
    "   - This tool integration is central to agentic architecture as it allows the agent to perform specialized tasks using pre-defined functionalities.\n",
    "\n",
    "3. **Reasoning and Function Calling**  \n",
    "   - The `FunctionCallingAgentWorker` allows the agent to reason and call specific functions as needed based on the user's prompt.\n",
    "   - This setup enables the agent to make decisions and take actions, such as querying the Acura manual for specific information like resetting the oil change light.\n",
    "\n",
    "## Differences from a Basic Query System\n",
    "- A basic query system only returns search results without processing or reasoning, while the agentic approach \"thinks through\" the required steps.\n",
    "- Agentic architecture enables multiple decision-making steps and tool usage, adding sophistication beyond simple query-response mechanisms.\n",
    "\n",
    "## Benefits\n",
    "- **Modularity**: Additional tools can be added to the agent, enabling it to autonomously decide when to use each one.\n",
    "- **Scalability**: The agent can scale to handle complex, multi-step queries and interactions, making it more versatile than a basic query engine.\n",
    "\n",
    "In summary, this setup leverages principles of agentic architecture, enabling it to dynamically and autonomously interact with users' queries. This is beneficial for scenarios that require more than simple responses, making it capable of sophisticated, contextualized interactions."
   ]
  },
  {
   "cell_type": "code",
   "execution_count": 9,
   "id": "2b34c85c-7a32-45cf-93a6-05a964a5bb82",
   "metadata": {},
   "outputs": [
    {
     "data": {
      "text/html": [
       "<p style=\"font-size:20px; color: darkblue;\"><strong>Response:</strong> Tire pressure should be checked monthly when the tires are cold. This means the vehicle should have been parked for at least three hours or driven less than 1 mile (1.6 km) before checking the pressure.</p>"
      ],
      "text/plain": [
       "<IPython.core.display.HTML object>"
      ]
     },
     "metadata": {},
     "output_type": "display_data"
    },
    {
     "data": {
      "text/html": [
       "<p style=\"font-size:16px; color: darkgreen;\"><strong>Excerpt from Page 487:</strong><br>485\n",
       "uuWhen DrivinguTire Pressure Monitoring System (TPMS) - Required Federal Explanation\n",
       "Continued\n",
       "Driving\n",
       "Tire Pressure Monitoring System (TPMS) - Required \n",
       "Federal Explanation\n",
       "Each tire, including the spare (if provided), should be checked \n",
       "monthly when cold and inflated to the inflation pressure \n",
       "recommended by the vehicle manufacturer on the vehicle placard \n",
       "or tire inflation pressure label.\n",
       "(If your vehicle has tires of a different size than the size indicated \n",
       "on the vehicle placard or tir...</p>"
      ],
      "text/plain": [
       "<IPython.core.display.HTML object>"
      ]
     },
     "metadata": {},
     "output_type": "display_data"
    },
    {
     "data": {
      "text/html": [
       "<p style=\"font-size:16px; color: darkgreen;\"><strong>Excerpt from Page 638:</strong><br>636\n",
       "Maintenance\n",
       "Checking and Maintaining Tires\n",
       "Checking Tires\n",
       "To safely operate your vehicle, your tires must be of the proper type and size, in \n",
       "good condition with adequate tread, and properly inflated.\n",
       "■Inflation guidelines\n",
       "Properly inflated tires provide the best combination of handling, tread life, and comfort. \n",
       "Refer to the driver’s doorjamb label or specifications page for the specified pressure.\n",
       "Underinflated tires wear unevenly, adversely affect handling and fuel economy, and \n",
       "are more ...</p>"
      ],
      "text/plain": [
       "<IPython.core.display.HTML object>"
      ]
     },
     "metadata": {},
     "output_type": "display_data"
    },
    {
     "data": {
      "text/html": [
       "<p style=\"font-size:16px; color: darkgreen;\"><strong>Excerpt from Page 692:</strong><br>690\n",
       "uuIf a Tire Goes FlatuTemporarily Repairing a Flat Tire\n",
       "Handling the Unexpected\n",
       "4. Recheck the air pressure using the gauge \n",
       "on the air compressor.\n",
       "u Do not turn the air compressor on to \n",
       "check the pressure.\n",
       "5. If the air pressure is:\n",
       "• Less than 19 psi (130 kPa):\n",
       "Do not add air or continue driving. The \n",
       "leak is too severe. Call for help and have \n",
       "your vehicle towed.\n",
       "2 Emergency Towing P. 724\n",
       "• 33 psi (230 kPa) or more:\n",
       "Continue driving for another five \n",
       "minutes or until you reach the neares...</p>"
      ],
      "text/plain": [
       "<IPython.core.display.HTML object>"
      ]
     },
     "metadata": {},
     "output_type": "display_data"
    }
   ],
   "source": [
    "# Query the Acura MDX manual for tire pressure check recommendations\n",
    "query = \"How often should tire pressure be checked, especially during cold weather?\"\n",
    "response = acura_query_engine.query(query)\n",
    "\n",
    "# Display the response and relevant excerpts\n",
    "from IPython.display import display, HTML\n",
    "\n",
    "# Display main response\n",
    "display(HTML(f'<p style=\"font-size:20px; color: darkblue;\"><strong>Response:</strong> {response.response}</p>'))\n",
    "\n",
    "# Display excerpts from source_nodes if available\n",
    "if hasattr(response, 'source_nodes') and response.source_nodes:\n",
    "    for i, node in enumerate(response.source_nodes):\n",
    "        page_info = f\"Page {node.node.metadata.get('page', 'N/A')}\" if node.node.metadata else \"Unknown page\"\n",
    "        excerpt = node.node.text[:500]  # Limit excerpt length to 500 characters for readability\n",
    "        display(HTML(f'<p style=\"font-size:16px; color: darkgreen;\"><strong>Excerpt from {page_info}:</strong><br>{excerpt}...</p>'))\n",
    "else:\n",
    "    display(HTML(\"<p style='font-size:16px; color: red;'>No excerpts found in the response.</p>\"))"
   ]
  },
  {
   "cell_type": "code",
   "execution_count": 10,
   "id": "f2400b32-75db-45fc-9195-4ef9066a5073",
   "metadata": {},
   "outputs": [
    {
     "name": "stdout",
     "output_type": "stream",
     "text": [
      "Today's date: 2024-10-28\n",
      "Last tire pressure check date: 2024-09-18\n",
      "Recommended check interval: 30 days\n"
     ]
    }
   ],
   "source": [
    "from datetime import datetime, timedelta\n",
    "\n",
    "# Set the last tire pressure check date to 40 days prior to today's date\n",
    "last_check_date = datetime.now() - timedelta(days=40)\n",
    "check_interval_days = 30  # Recommended interval for tire pressure checks in days\n",
    "\n",
    "# Display the last check date and the check interval for verification\n",
    "print(f\"Today's date: {datetime.now().strftime('%Y-%m-%d')}\")\n",
    "print(f\"Last tire pressure check date: {last_check_date.strftime('%Y-%m-%d')}\")\n",
    "print(f\"Recommended check interval: {check_interval_days} days\")"
   ]
  },
  {
   "cell_type": "code",
   "execution_count": 11,
   "id": "fb544b50-5d30-4729-b4a3-541130c3c4cd",
   "metadata": {},
   "outputs": [
    {
     "name": "stdout",
     "output_type": "stream",
     "text": [
      "The current temperature in Powell is 46.9°F.\n"
     ]
    }
   ],
   "source": [
    "import os\n",
    "import requests\n",
    "\n",
    "def get_current_temperature(city):\n",
    "    \"\"\"Fetches the current temperature for a given city using WeatherAPI.\"\"\"\n",
    "    api_key = os.getenv(\"WEATHER_API_KEY\")\n",
    "    if not api_key:\n",
    "        raise ValueError(\"WEATHER_API_KEY environment variable is not set.\")\n",
    "    \n",
    "    url = f\"http://api.weatherapi.com/v1/current.json?key={api_key}&q={city}&aqi=no\"\n",
    "    response = requests.get(url)\n",
    "    if response.status_code == 200:\n",
    "        weather_data = response.json()\n",
    "        temperature = weather_data['current']['temp_f']\n",
    "        return temperature\n",
    "    else:\n",
    "        print(f\"Error fetching weather data: {response.status_code}\")\n",
    "        return None\n",
    "\n",
    "# Test the function with \"Powell\" as the city\n",
    "city = \"Powell\"\n",
    "current_temp = get_current_temperature(city)\n",
    "if current_temp is not None:\n",
    "    print(f\"The current temperature in {city} is {current_temp}°F.\")\n",
    "else:\n",
    "    print(\"Failed to fetch the current temperature.\")"
   ]
  },
  {
   "cell_type": "code",
   "execution_count": 12,
   "id": "d393a26c-0961-4737-8cac-4f6ab39e90f1",
   "metadata": {},
   "outputs": [
    {
     "name": "stdout",
     "output_type": "stream",
     "text": [
      "Days since last tire pressure check: 40\n",
      "Current temperature in Powell: 46.9°F\n",
      "Reminder conditions met: Time to check tire pressure.\n"
     ]
    }
   ],
   "source": [
    "def should_send_reminder(last_check_date, check_interval_days, current_temp, temperature_threshold=32):\n",
    "    \"\"\"Determine if a tire pressure reminder should be sent based on check interval and temperature.\"\"\"\n",
    "    days_since_last_check = (datetime.now() - last_check_date).days\n",
    "    print(f\"Days since last tire pressure check: {days_since_last_check}\")\n",
    "    print(f\"Current temperature in Powell: {current_temp}°F\")\n",
    "    \n",
    "    # Check if either the check interval has passed or the temperature is below the threshold\n",
    "    if days_since_last_check >= check_interval_days or current_temp < temperature_threshold:\n",
    "        return True\n",
    "    return False\n",
    "\n",
    "# Test the function with current values\n",
    "temperature_threshold = 50  # Set temperature threshold in Fahrenheit\n",
    "reminder_needed = should_send_reminder(last_check_date, check_interval_days, current_temp, temperature_threshold)\n",
    "\n",
    "if reminder_needed:\n",
    "    print(\"Reminder conditions met: Time to check tire pressure.\")\n",
    "else:\n",
    "    print(\"No reminder needed at this time.\")"
   ]
  },
  {
   "cell_type": "code",
   "execution_count": 13,
   "id": "f13046b4-b2c3-40e6-8f78-82b30eae7a7d",
   "metadata": {},
   "outputs": [],
   "source": [
    "# from twilio.rest import Client\n",
    "# import os\n",
    "\n",
    "# def send_sms_reminder(message, to_phone):\n",
    "#     \"\"\"Sends an SMS reminder via Twilio using API Key SID and Secret.\"\"\"\n",
    "#     api_key_sid = os.getenv(\"TWILIO_API_KEY_SID\")\n",
    "#     api_key_secret = os.getenv(\"TWILIO_API_KEY_SECRET\")\n",
    "#     account_sid = os.getenv(\"TWILIO_ACCOUNT_SID\")  # Still need the Account SID\n",
    "#     from_phone = os.getenv(\"TWILIO_PHONE_NUMBER\")\n",
    "    \n",
    "#     if not all([api_key_sid, api_key_secret, account_sid, from_phone]):\n",
    "#         raise ValueError(\"Twilio environment variables are not set properly.\")\n",
    "\n",
    "#     client = Client(api_key_sid, api_key_secret, account_sid)\n",
    "    \n",
    "#     message = client.messages.create(\n",
    "#         body=message,\n",
    "#         from_=from_phone,\n",
    "#         to=to_phone\n",
    "#     )\n",
    "#     return message.sid\n",
    "\n",
    "# # Example message content\n",
    "# reminder_message = (\n",
    "#     f\"Reminder: It’s time to check your tire pressure. The temperature in Powell is {current_temp}°F, \"\n",
    "#     \"which can impact tire pressure.\"\n",
    "# )\n",
    "\n",
    "# # Send SMS if reminder conditions are met\n",
    "# if reminder_needed:\n",
    "#     sms_sid = send_sms_reminder(reminder_message, os.getenv(\"USER_PHONE_NUMBER\"))\n",
    "#     print(f\"SMS sent with SID: {sms_sid}\")\n",
    "# else:\n",
    "#     print(\"No SMS sent; conditions not met.\")"
   ]
  },
  {
   "cell_type": "code",
   "execution_count": 22,
   "id": "5e589dab-ef49-47eb-97a0-9c395d94f949",
   "metadata": {},
   "outputs": [
    {
     "ename": "APIRemovedInV1",
     "evalue": "\n\nYou tried to access openai.ChatCompletion, but this is no longer supported in openai>=1.0.0 - see the README at https://github.com/openai/openai-python for the API.\n\nYou can run `openai migrate` to automatically upgrade your codebase to use the 1.0.0 interface. \n\nAlternatively, you can pin your installation to the old version, e.g. `pip install openai==0.28`\n\nA detailed migration guide is available here: https://github.com/openai/openai-python/discussions/742\n",
     "output_type": "error",
     "traceback": [
      "\u001b[1;31m---------------------------------------------------------------------------\u001b[0m",
      "\u001b[1;31mAPIRemovedInV1\u001b[0m                            Traceback (most recent call last)",
      "Cell \u001b[1;32mIn[22], line 43\u001b[0m\n\u001b[0;32m     41\u001b[0m city \u001b[38;5;241m=\u001b[39m \u001b[38;5;124m\"\u001b[39m\u001b[38;5;124mPowell\u001b[39m\u001b[38;5;124m\"\u001b[39m\n\u001b[0;32m     42\u001b[0m temperature_threshold \u001b[38;5;241m=\u001b[39m \u001b[38;5;241m50\u001b[39m\n\u001b[1;32m---> 43\u001b[0m recommendation \u001b[38;5;241m=\u001b[39m tire_pressure_agent_with_openai(city, last_check_date, check_interval_days, temperature_threshold)\n\u001b[0;32m     44\u001b[0m \u001b[38;5;28mprint\u001b[39m(recommendation)\n",
      "Cell \u001b[1;32mIn[22], line 32\u001b[0m, in \u001b[0;36mtire_pressure_agent_with_openai\u001b[1;34m(city, last_check_date, check_interval_days, temperature_threshold)\u001b[0m\n\u001b[0;32m     30\u001b[0m \u001b[38;5;66;03m# Use OpenAI to generate a response\u001b[39;00m\n\u001b[0;32m     31\u001b[0m openai\u001b[38;5;241m.\u001b[39mapi_key \u001b[38;5;241m=\u001b[39m os\u001b[38;5;241m.\u001b[39mgetenv(\u001b[38;5;124m\"\u001b[39m\u001b[38;5;124mOPENAI_API_KEY\u001b[39m\u001b[38;5;124m\"\u001b[39m)\n\u001b[1;32m---> 32\u001b[0m response \u001b[38;5;241m=\u001b[39m openai\u001b[38;5;241m.\u001b[39mChatCompletion\u001b[38;5;241m.\u001b[39mcreate(\n\u001b[0;32m     33\u001b[0m     model\u001b[38;5;241m=\u001b[39m\u001b[38;5;124m\"\u001b[39m\u001b[38;5;124mgpt-4\u001b[39m\u001b[38;5;124m\"\u001b[39m,  \u001b[38;5;66;03m# Adjust model if needed\u001b[39;00m\n\u001b[0;32m     34\u001b[0m     messages\u001b[38;5;241m=\u001b[39m[{\u001b[38;5;124m\"\u001b[39m\u001b[38;5;124mrole\u001b[39m\u001b[38;5;124m\"\u001b[39m: \u001b[38;5;124m\"\u001b[39m\u001b[38;5;124muser\u001b[39m\u001b[38;5;124m\"\u001b[39m, \u001b[38;5;124m\"\u001b[39m\u001b[38;5;124mcontent\u001b[39m\u001b[38;5;124m\"\u001b[39m: prompt}]\n\u001b[0;32m     35\u001b[0m )\n\u001b[0;32m     37\u001b[0m \u001b[38;5;66;03m# Return the content of the response\u001b[39;00m\n\u001b[0;32m     38\u001b[0m \u001b[38;5;28;01mreturn\u001b[39;00m response\u001b[38;5;241m.\u001b[39mchoices[\u001b[38;5;241m0\u001b[39m]\u001b[38;5;241m.\u001b[39mmessage[\u001b[38;5;124m\"\u001b[39m\u001b[38;5;124mcontent\u001b[39m\u001b[38;5;124m\"\u001b[39m]\n",
      "File \u001b[1;32mC:\\ProgramData\\anaconda3\\Lib\\site-packages\\openai\\lib\\_old_api.py:39\u001b[0m, in \u001b[0;36mAPIRemovedInV1Proxy.__call__\u001b[1;34m(self, *_args, **_kwargs)\u001b[0m\n\u001b[0;32m     38\u001b[0m \u001b[38;5;28;01mdef\u001b[39;00m \u001b[38;5;21m__call__\u001b[39m(\u001b[38;5;28mself\u001b[39m, \u001b[38;5;241m*\u001b[39m_args: Any, \u001b[38;5;241m*\u001b[39m\u001b[38;5;241m*\u001b[39m_kwargs: Any) \u001b[38;5;241m-\u001b[39m\u001b[38;5;241m>\u001b[39m Any:\n\u001b[1;32m---> 39\u001b[0m     \u001b[38;5;28;01mraise\u001b[39;00m APIRemovedInV1(symbol\u001b[38;5;241m=\u001b[39m\u001b[38;5;28mself\u001b[39m\u001b[38;5;241m.\u001b[39m_symbol)\n",
      "\u001b[1;31mAPIRemovedInV1\u001b[0m: \n\nYou tried to access openai.ChatCompletion, but this is no longer supported in openai>=1.0.0 - see the README at https://github.com/openai/openai-python for the API.\n\nYou can run `openai migrate` to automatically upgrade your codebase to use the 1.0.0 interface. \n\nAlternatively, you can pin your installation to the old version, e.g. `pip install openai==0.28`\n\nA detailed migration guide is available here: https://github.com/openai/openai-python/discussions/742\n"
     ]
    }
   ],
   "source": [
    "import openai\n",
    "import os\n",
    "\n",
    "def tire_pressure_agent_with_openai(city, last_check_date, check_interval_days, temperature_threshold=50):\n",
    "    \"\"\"Agent that recommends tire inflation based on last check date, temperature, and owner's manual.\"\"\"\n",
    "    \n",
    "    # Get the current temperature for the specified city\n",
    "    current_temp = get_current_temperature(city)\n",
    "    days_since_last_check = (datetime.now() - last_check_date).days\n",
    "\n",
    "    # Retrieve relevant information from the owner's manual using the query engine\n",
    "    query = \"What are the recommendations for checking tire pressure, especially during cold weather?\"\n",
    "    manual_response = acura_query_engine.query(query)\n",
    "\n",
    "    # Prepare structured input for OpenAI\n",
    "    prompt = f\"\"\"\n",
    "    Based on the following owner's manual information about tire maintenance:\n",
    "    \n",
    "    {manual_response.response}\n",
    "\n",
    "    Current conditions are:\n",
    "    - Days since last tire pressure check: {days_since_last_check} days\n",
    "    - Current temperature in {city}: {current_temp}°F\n",
    "    - Recommended check interval: {check_interval_days} days\n",
    "    - Temperature threshold for reminder: {temperature_threshold}°F\n",
    "    \n",
    "    Provide a detailed recommendation on whether to check or inflate the tires, considering the above context.\n",
    "    \"\"\"\n",
    "\n",
    "    # Use OpenAI to generate a response\n",
    "    openai.api_key = os.getenv(\"OPENAI_API_KEY\")\n",
    "    response = openai.ChatCompletion.create(\n",
    "        model=\"gpt-4\",  # Adjust model if needed\n",
    "        messages=[{\"role\": \"user\", \"content\": prompt}]\n",
    "    )\n",
    "\n",
    "    # Return the content of the response\n",
    "    return response.choices[0].message[\"content\"]\n",
    "\n",
    "# Test the agent\n",
    "city = \"Powell\"\n",
    "temperature_threshold = 50\n",
    "recommendation = tire_pressure_agent_with_openai(city, last_check_date, check_interval_days, temperature_threshold)\n",
    "print(recommendation)"
   ]
  }
 ],
 "metadata": {
  "kernelspec": {
   "display_name": "Python 3",
   "language": "python",
   "name": "python3"
  },
  "language_info": {
   "codemirror_mode": {
    "name": "ipython",
    "version": 3
   },
   "file_extension": ".py",
   "mimetype": "text/x-python",
   "name": "python",
   "nbconvert_exporter": "python",
   "pygments_lexer": "ipython3",
   "version": "3.12.7"
  }
 },
 "nbformat": 4,
 "nbformat_minor": 5
}
