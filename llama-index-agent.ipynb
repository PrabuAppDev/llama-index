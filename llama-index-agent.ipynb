{
 "cells": [
  {
   "cell_type": "code",
   "execution_count": 7,
   "id": "a5affd8b-0078-4164-8e97-99e2fa251854",
   "metadata": {},
   "outputs": [
    {
     "name": "stdout",
     "output_type": "stream",
     "text": [
      "Defaulting to user installation because normal site-packages is not writeable\n",
      "Requirement already satisfied: openai in c:\\programdata\\anaconda3\\lib\\site-packages (1.52.2)\n",
      "Requirement already satisfied: anyio<5,>=3.5.0 in c:\\programdata\\anaconda3\\lib\\site-packages (from openai) (4.2.0)\n",
      "Requirement already satisfied: distro<2,>=1.7.0 in c:\\programdata\\anaconda3\\lib\\site-packages (from openai) (1.9.0)\n",
      "Requirement already satisfied: httpx<1,>=0.23.0 in c:\\programdata\\anaconda3\\lib\\site-packages (from openai) (0.27.0)\n",
      "Requirement already satisfied: jiter<1,>=0.4.0 in c:\\programdata\\anaconda3\\lib\\site-packages (from openai) (0.6.1)\n",
      "Requirement already satisfied: pydantic<3,>=1.9.0 in c:\\programdata\\anaconda3\\lib\\site-packages (from openai) (2.8.2)\n",
      "Requirement already satisfied: sniffio in c:\\programdata\\anaconda3\\lib\\site-packages (from openai) (1.3.0)\n",
      "Requirement already satisfied: tqdm>4 in c:\\programdata\\anaconda3\\lib\\site-packages (from openai) (4.66.5)\n",
      "Requirement already satisfied: typing-extensions<5,>=4.11 in c:\\programdata\\anaconda3\\lib\\site-packages (from openai) (4.11.0)\n",
      "Requirement already satisfied: idna>=2.8 in c:\\programdata\\anaconda3\\lib\\site-packages (from anyio<5,>=3.5.0->openai) (3.7)\n",
      "Requirement already satisfied: certifi in c:\\programdata\\anaconda3\\lib\\site-packages (from httpx<1,>=0.23.0->openai) (2024.8.30)\n",
      "Requirement already satisfied: httpcore==1.* in c:\\programdata\\anaconda3\\lib\\site-packages (from httpx<1,>=0.23.0->openai) (1.0.2)\n",
      "Requirement already satisfied: h11<0.15,>=0.13 in c:\\programdata\\anaconda3\\lib\\site-packages (from httpcore==1.*->httpx<1,>=0.23.0->openai) (0.14.0)\n",
      "Requirement already satisfied: annotated-types>=0.4.0 in c:\\programdata\\anaconda3\\lib\\site-packages (from pydantic<3,>=1.9.0->openai) (0.6.0)\n",
      "Requirement already satisfied: pydantic-core==2.20.1 in c:\\programdata\\anaconda3\\lib\\site-packages (from pydantic<3,>=1.9.0->openai) (2.20.1)\n",
      "Requirement already satisfied: colorama in c:\\programdata\\anaconda3\\lib\\site-packages (from tqdm>4->openai) (0.4.6)\n"
     ]
    }
   ],
   "source": [
    "!pip install openai"
   ]
  },
  {
   "cell_type": "code",
   "execution_count": 17,
   "id": "684c5903-e19d-439c-b398-5da263c21e6e",
   "metadata": {},
   "outputs": [],
   "source": [
    "import nest_asyncio\n",
    "import os\n",
    "\n",
    "# Apply nest_asyncio to handle nested event loops (useful for Jupyter notebooks)\n",
    "nest_asyncio.apply()\n",
    "\n",
    "# Ensure the OpenAI API key is set as an environment variable\n",
    "assert \"OPENAI_API_KEY\" in os.environ, \"Please set the OPENAI_API_KEY environment variable.\"\n",
    "\n",
    "# Import the OpenAI and embedding classes from Llama-Index\n",
    "from llama_index.llms.openai import OpenAI\n",
    "from llama_index.embeddings.openai import OpenAIEmbedding\n",
    "from llama_index.core import Settings\n",
    "\n",
    "# Initialize the language model (LLM) using gpt-4o-mini and embedding model\n",
    "llm = OpenAI(model=\"gpt-4o-mini\", temperature=0.1)\n",
    "embed_model = OpenAIEmbedding()\n",
    "\n",
    "# Set the LLM and embedding model globally for usage\n",
    "Settings.llm = llm\n",
    "Settings.embed_model = embed_model"
   ]
  },
  {
   "cell_type": "code",
   "execution_count": 19,
   "id": "99696466-5800-4058-985e-64739cfc0837",
   "metadata": {},
   "outputs": [],
   "source": [
    "from llama_index.core import SimpleDirectoryReader\n",
    "\n",
    "# Load the Acura MDX manual\n",
    "acura_docs = SimpleDirectoryReader(input_files=[\"acura_mdx_manual.pdf\"]).load_data()"
   ]
  },
  {
   "cell_type": "code",
   "execution_count": 21,
   "id": "4565b72f-50f4-45d3-a0ad-10b150c90986",
   "metadata": {},
   "outputs": [],
   "source": [
    "from llama_index.core import VectorStoreIndex\n",
    "\n",
    "# Create vector store index from the Acura MDX manual\n",
    "acura_index = VectorStoreIndex.from_documents(acura_docs)\n",
    "\n",
    "# Create a query engine for the Acura manual\n",
    "acura_query_engine = acura_index.as_query_engine(similarity_top_k=3)"
   ]
  },
  {
   "cell_type": "code",
   "execution_count": 25,
   "id": "f578e591-8bbc-4237-8479-eb9f5fb9d7b3",
   "metadata": {},
   "outputs": [
    {
     "data": {
      "text/html": [
       "<p style=\"font-size:20px\">To disable the automatic high beam feature on a 2022 Acura MDX, set the power mode to ON while the vehicle is stationary. With the light switch in the AUTO position, pull the lever toward you and hold it for at least 40 seconds. Once the auto high-beam indicator light blinks twice, you can release the lever.</p>"
      ],
      "text/plain": [
       "<IPython.core.display.HTML object>"
      ]
     },
     "metadata": {},
     "output_type": "display_data"
    }
   ],
   "source": [
    "from IPython.display import display, HTML\n",
    "\n",
    "# Example query: Ask about resetting the oil change light\n",
    "response = acura_query_engine.query(\"How do I disable the automatic high beam feature on a 2022 Acura MDX?\")\n",
    "display(HTML(f'<p style=\"font-size:20px\">{response.response}</p>'))"
   ]
  },
  {
   "cell_type": "code",
   "execution_count": 29,
   "id": "2e0fbdbf-159e-4da0-93c9-8a1135938802",
   "metadata": {},
   "outputs": [
    {
     "name": "stdout",
     "output_type": "stream",
     "text": [
      "Added user message to memory: How do I disable the automatic high beam feature on a 2022 Acura MDX?\n",
      "=== Calling Function ===\n",
      "Calling function: acura_manual with args: {\"input\": \"disable automatic high beam feature 2022 Acura MDX\"}\n",
      "=== Function Output ===\n",
      "To disable the automatic high-beam feature on a 2022 Acura MDX, set the power mode to ON while the vehicle is stationary. With the light switch in the AUTO position, pull the lever toward you and hold it for at least 40 seconds. After the auto high-beam indicator light blinks twice, you can release the lever. This will turn off the auto high-beam system.\n",
      "=== LLM Response ===\n",
      "To disable the automatic high-beam feature on a 2022 Acura MDX, follow these steps:\n",
      "\n",
      "1. Set the power mode to ON while the vehicle is stationary.\n",
      "2. With the light switch in the AUTO position, pull the lever toward you and hold it for at least 40 seconds.\n",
      "3. After the auto high-beam indicator light blinks twice, you can release the lever.\n",
      "\n",
      "This will turn off the auto high-beam system.\n"
     ]
    },
    {
     "data": {
      "text/html": [
       "<p style=\"font-size:20px\">To disable the automatic high-beam feature on a 2022 Acura MDX, follow these steps:\n",
       "\n",
       "1. Set the power mode to ON while the vehicle is stationary.\n",
       "2. With the light switch in the AUTO position, pull the lever toward you and hold it for at least 40 seconds.\n",
       "3. After the auto high-beam indicator light blinks twice, you can release the lever.\n",
       "\n",
       "This will turn off the auto high-beam system.</p>"
      ],
      "text/plain": [
       "<IPython.core.display.HTML object>"
      ]
     },
     "metadata": {},
     "output_type": "display_data"
    }
   ],
   "source": [
    "from llama_index.core.tools import QueryEngineTool, ToolMetadata\n",
    "from llama_index.core.agent import FunctionCallingAgentWorker\n",
    "\n",
    "# Define the query engine tool for Acura manual\n",
    "query_engine_tools = [\n",
    "    QueryEngineTool(\n",
    "        query_engine=acura_query_engine,\n",
    "        metadata=ToolMetadata(\n",
    "            name=\"acura_manual\",\n",
    "            description=\"Provides information from the Acura MDX 2022 owner's manual\",\n",
    "        ),\n",
    "    )\n",
    "]\n",
    "\n",
    "# Create a function-calling agent worker\n",
    "agent_worker = FunctionCallingAgentWorker.from_tools(\n",
    "    query_engine_tools,\n",
    "    llm=llm,\n",
    "    verbose=True,\n",
    "    allow_parallel_tool_calls=False,\n",
    ")\n",
    "\n",
    "# Convert the agent worker to an agent\n",
    "agent = agent_worker.as_agent()\n",
    "\n",
    "# Use the agent to ask a question about the Acura manual\n",
    "response = agent.chat(\"How do I disable the automatic high beam feature on a 2022 Acura MDX?\")\n",
    "display(HTML(f'<p style=\"font-size:20px\">{response.response}</p>'))"
   ]
  },
  {
   "cell_type": "markdown",
   "id": "bf0c629a-705a-46e1-a563-5457627773e9",
   "metadata": {},
   "source": [
    "# Agentic Architecture Overview\n",
    "\n",
    "The setup using `FunctionCallingAgentWorker` with Llama Index can be considered an example of agentic architecture. Here's a breakdown of why this approach qualifies:\n",
    "\n",
    "1. **Agents and Autonomy**  \n",
    "   - The `FunctionCallingAgentWorker` creates an agent that autonomously decides which tools (query engines) to utilize based on the user's query.\n",
    "   - This makes it an \"agent\" because it can perform actions independently to resolve queries. For instance, the agent autonomously decides which section of the manual to query to answer a question.\n",
    "\n",
    "2. **Tool Integration**  \n",
    "   - The agent is integrated with \"tools\" (`QueryEngineTool`), which provide specific capabilities—in this case, querying the Acura manual data.\n",
    "   - This tool integration is central to agentic architecture as it allows the agent to perform specialized tasks using pre-defined functionalities.\n",
    "\n",
    "3. **Reasoning and Function Calling**  \n",
    "   - The `FunctionCallingAgentWorker` allows the agent to reason and call specific functions as needed based on the user's prompt.\n",
    "   - This setup enables the agent to make decisions and take actions, such as querying the Acura manual for specific information like resetting the oil change light.\n",
    "\n",
    "## Differences from a Basic Query System\n",
    "- A basic query system only returns search results without processing or reasoning, while the agentic approach \"thinks through\" the required steps.\n",
    "- Agentic architecture enables multiple decision-making steps and tool usage, adding sophistication beyond simple query-response mechanisms.\n",
    "\n",
    "## Benefits\n",
    "- **Modularity**: Additional tools can be added to the agent, enabling it to autonomously decide when to use each one.\n",
    "- **Scalability**: The agent can scale to handle complex, multi-step queries and interactions, making it more versatile than a basic query engine.\n",
    "\n",
    "In summary, this setup leverages principles of agentic architecture, enabling it to dynamically and autonomously interact with users' queries. This is beneficial for scenarios that require more than simple responses, making it capable of sophisticated, contextualized interactions."
   ]
  }
 ],
 "metadata": {
  "kernelspec": {
   "display_name": "Python 3",
   "language": "python",
   "name": "python3"
  },
  "language_info": {
   "codemirror_mode": {
    "name": "ipython",
    "version": 3
   },
   "file_extension": ".py",
   "mimetype": "text/x-python",
   "name": "python",
   "nbconvert_exporter": "python",
   "pygments_lexer": "ipython3",
   "version": "3.12.7"
  }
 },
 "nbformat": 4,
 "nbformat_minor": 5
}
